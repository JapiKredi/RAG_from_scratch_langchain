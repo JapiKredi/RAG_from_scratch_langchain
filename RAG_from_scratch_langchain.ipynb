{
  "nbformat": 4,
  "nbformat_minor": 0,
  "metadata": {
    "colab": {
      "provenance": [],
      "authorship_tag": "ABX9TyOgorw7XBNYlTGKjKeBJSl7",
      "include_colab_link": true
    },
    "kernelspec": {
      "name": "python3",
      "display_name": "Python 3"
    },
    "language_info": {
      "name": "python"
    }
  },
  "cells": [
    {
      "cell_type": "markdown",
      "metadata": {
        "id": "view-in-github",
        "colab_type": "text"
      },
      "source": [
        "<a href=\"https://colab.research.google.com/github/JapiKredi/RAG_from_scratch_langchain/blob/main/RAG_from_scratch_langchain.ipynb\" target=\"_parent\"><img src=\"https://colab.research.google.com/assets/colab-badge.svg\" alt=\"Open In Colab\"/></a>"
      ]
    },
    {
      "cell_type": "markdown",
      "source": [
        "# Building a RAG application from scratch with Langchain"
      ],
      "metadata": {
        "id": "ssWthfiiGKcx"
      }
    },
    {
      "cell_type": "markdown",
      "source": [
        "1: Ingestion     \n",
        "\n",
        "2: Retrieval\n",
        "\n",
        "3: Generation"
      ],
      "metadata": {
        "id": "OJnYlSvtGO-V"
      }
    },
    {
      "cell_type": "markdown",
      "source": [
        "1: Ingestion     \n",
        "a. loading the data: text, pdf, webpage, csv-file, etc\n",
        "b. chunking\n",
        "c. embedding\n",
        "d. database (vector db, nosql or hybrid (vctor-db + nosql)\n",
        "\n",
        "2: Retrieval\n",
        "a. sementic search (= similarity search), index, rank results\n",
        "\n",
        "3: Generation\n",
        "b. passing the results to the LLM"
      ],
      "metadata": {
        "id": "dqJgxsrLGh5H"
      }
    },
    {
      "cell_type": "code",
      "execution_count": null,
      "metadata": {
        "id": "aqbyYxY8FtlM"
      },
      "outputs": [],
      "source": []
    },
    {
      "cell_type": "code",
      "source": [],
      "metadata": {
        "id": "07vF2zujGN5B"
      },
      "execution_count": null,
      "outputs": []
    }
  ]
}